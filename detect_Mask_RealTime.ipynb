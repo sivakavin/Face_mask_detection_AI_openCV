{
 "cells": [
  {
   "cell_type": "code",
   "execution_count": 1,
   "metadata": {},
   "outputs": [],
   "source": [
    "from tensorflow.keras.models import load_model\n",
    "detector = load_model('dummy.model')"
   ]
  },
  {
   "cell_type": "code",
   "execution_count": 2,
   "metadata": {},
   "outputs": [],
   "source": [
    "import tensorflow as tf\n",
    "import cv2\n",
    "import numpy\n",
    "\n",
    "#starting the video stream\n",
    "cap = cv2.VideoCapture(0) \n",
    "\n",
    "#using the XML file for haarcascade classifier\n",
    "classifier = cv2.CascadeClassifier(\"haarcascade_frontalface_default.xml\")"
   ]
  },
  {
   "cell_type": "code",
   "execution_count": 3,
   "metadata": {},
   "outputs": [
    {
     "ename": "NameError",
     "evalue": "name 'score' is not defined",
     "output_type": "error",
     "traceback": [
      "\u001b[1;31m---------------------------------------------------------------------------\u001b[0m",
      "\u001b[1;31mNameError\u001b[0m                                 Traceback (most recent call last)",
      "\u001b[1;32m<ipython-input-3-ba4cb3d605c3>\u001b[0m in \u001b[0;36m<module>\u001b[1;34m\u001b[0m\n\u001b[0;32m     26\u001b[0m     \u001b[1;31m#displaying the window after predicting the outcome\u001b[0m\u001b[1;33m\u001b[0m\u001b[1;33m\u001b[0m\u001b[1;33m\u001b[0m\u001b[0m\n\u001b[0;32m     27\u001b[0m     \u001b[0mcv2\u001b[0m\u001b[1;33m.\u001b[0m\u001b[0mimshow\u001b[0m\u001b[1;33m(\u001b[0m\u001b[1;34m'face_window'\u001b[0m\u001b[1;33m,\u001b[0m \u001b[0mnew_image\u001b[0m\u001b[1;33m)\u001b[0m\u001b[1;33m\u001b[0m\u001b[1;33m\u001b[0m\u001b[0m\n\u001b[1;32m---> 28\u001b[1;33m     \u001b[0mprint\u001b[0m\u001b[1;33m(\u001b[0m\u001b[0mnumpy\u001b[0m\u001b[1;33m.\u001b[0m\u001b[0margmax\u001b[0m\u001b[1;33m(\u001b[0m\u001b[0mscore\u001b[0m\u001b[1;33m)\u001b[0m\u001b[1;33m,\u001b[0m \u001b[1;36m100\u001b[0m\u001b[1;33m*\u001b[0m\u001b[0mnumpy\u001b[0m\u001b[1;33m.\u001b[0m\u001b[0mmax\u001b[0m\u001b[1;33m(\u001b[0m\u001b[0mscore\u001b[0m\u001b[1;33m)\u001b[0m\u001b[1;33m)\u001b[0m\u001b[1;33m\u001b[0m\u001b[1;33m\u001b[0m\u001b[0m\n\u001b[0m\u001b[0;32m     29\u001b[0m     \u001b[1;31m#waitkey to terminate the loop\u001b[0m\u001b[1;33m\u001b[0m\u001b[1;33m\u001b[0m\u001b[1;33m\u001b[0m\u001b[0m\n\u001b[0;32m     30\u001b[0m     \u001b[0mkey\u001b[0m \u001b[1;33m=\u001b[0m \u001b[0mcv2\u001b[0m\u001b[1;33m.\u001b[0m\u001b[0mwaitKey\u001b[0m\u001b[1;33m(\u001b[0m\u001b[1;36m10\u001b[0m\u001b[1;33m)\u001b[0m\u001b[1;33m\u001b[0m\u001b[1;33m\u001b[0m\u001b[0m\n",
      "\u001b[1;31mNameError\u001b[0m: name 'score' is not defined"
     ]
    }
   ],
   "source": [
    "#using the loop to watch the stream in real time.\n",
    "while True:\n",
    "    (success, frame) = cap.read()  #reading the frame from the stream \n",
    "    new_image = cv2.resize(frame, (frame.shape[1] // 1, frame.shape[0] // 1)) #resizing the frame to speed up the process of detection\n",
    "    face = classifier.detectMultiScale(new_image) #detecting faces from the frame(ROI)\n",
    "    for x,y,w,h in face:\n",
    "        try:\n",
    "            face_img = new_image[y:x+h, x:x+w] #getting the coordinates for the face detected\n",
    "            resized= cv2.resize(face_img,(224,224)) #resizing the  face detected to fit into the model in the shape(224,224)\n",
    "            image_array = tf.keras.preprocessing.image.img_to_array(resized) #converting the detected image into an array \n",
    "            image_array = tf.expand_dims(image_array,0) #expanding the dimensions to fit in the model\n",
    "            predictions = detector.predict(image_array) #making predictions on the ROI\n",
    "            score = tf.nn.softmax(predictions[0]) #getting the results \n",
    "            label = numpy.argmax(score)\n",
    "        except Exception as e:\n",
    "            print('bad frame')\n",
    "            \n",
    "        if label == 0:\n",
    "            cv2.rectangle(new_image,(x,y),(x+w,y+h),(0,255,0),2)\n",
    "            cv2.putText(new_image,\"mask\",(x,y),cv2.FONT_HERSHEY_SIMPLEX,0.8,(0,255,0), 2)\n",
    "        elif label == 1:\n",
    "            cv2.rectangle(new_image,(x,y),(x+w,y+h),(0,0,255),2)\n",
    "            cv2.putText(new_image,'no_mask',(x,y),cv2.FONT_HERSHEY_SIMPLEX,0.8,(0,0,255), 2)\n",
    "        else:\n",
    "            None\n",
    "    #displaying the window after predicting the outcome\n",
    "    cv2.imshow('face_window', new_image)\n",
    "    print(numpy.argmax(score), 100*numpy.max(score))\n",
    "    #waitkey to terminate the loop\n",
    "    key = cv2.waitKey(10) \n",
    "    if key == ord('q'):\n",
    "        break\n",
    "        \n",
    "#release the stream \n",
    "cap.release()\n",
    "cv2.destroyAllWindows()"
   ]
  },
  {
   "cell_type": "code",
   "execution_count": null,
   "metadata": {},
   "outputs": [],
   "source": []
  }
 ],
 "metadata": {
  "kernelspec": {
   "display_name": "Python 3",
   "language": "python",
   "name": "python3"
  },
  "language_info": {
   "codemirror_mode": {
    "name": "ipython",
    "version": 3
   },
   "file_extension": ".py",
   "mimetype": "text/x-python",
   "name": "python",
   "nbconvert_exporter": "python",
   "pygments_lexer": "ipython3",
   "version": "3.8.5"
  }
 },
 "nbformat": 4,
 "nbformat_minor": 4
}
